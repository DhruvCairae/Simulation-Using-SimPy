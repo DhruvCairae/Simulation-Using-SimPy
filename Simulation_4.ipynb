{
 "cells": [
  {
   "cell_type": "code",
   "execution_count": 23,
   "id": "21c53c02",
   "metadata": {},
   "outputs": [],
   "source": [
    "import collections\n",
    "import random\n",
    "import simpy\n"
   ]
  },
  {
   "cell_type": "code",
   "execution_count": 24,
   "id": "e0579251",
   "metadata": {},
   "outputs": [],
   "source": [
    "RANDOM_SEED = 42\n",
    "TICKETS = 50  # Number of tickets per movie\n",
    "SIM_TIME = 120  # Simulate until\n"
   ]
  },
  {
   "cell_type": "code",
   "execution_count": 25,
   "id": "694728b3",
   "metadata": {},
   "outputs": [],
   "source": [
    "def moviegoer(env, movie, num_tickets, theater):\n",
    "    \"\"\"A moviegoer tries to by a number of tickets (*num_tickets*) for\n",
    "    a certain *movie* in a *theater*.\n",
    "\n",
    "    If the movie becomes sold out, she leaves the theater. If she gets\n",
    "    to the counter, she tries to buy a number of tickets. If not enough\n",
    "    tickets are left, she argues with the teller and leaves.\n",
    "\n",
    "    If at most one ticket is left after the moviegoer bought her\n",
    "    tickets, the *sold out* event for this movie is triggered causing\n",
    "    all remaining moviegoers to leave.\n",
    "\n",
    "    \"\"\"\n",
    "    with theater.counter.request() as my_turn:\n",
    "        # Wait until its our turn or until the movie is sold out\n",
    "        result = yield my_turn | theater.sold_out[movie]\n",
    "\n",
    "        # Check if it's our turn or if movie is sold out\n",
    "        if my_turn not in result:\n",
    "            theater.num_renegers[movie] += 1\n",
    "            return\n",
    "\n",
    "        # Check if enough tickets left.\n",
    "        if theater.available[movie] < num_tickets:\n",
    "            # Moviegoer leaves after some discussion\n",
    "            yield env.timeout(random.expovariate(1))\n",
    "            return\n",
    "\n",
    "        # Buy tickets\n",
    "        theater.available[movie] -= num_tickets\n",
    "        if theater.available[movie] < 2:\n",
    "            # Trigger the \"sold out\" event for the movie\n",
    "            theater.sold_out[movie].succeed()\n",
    "            theater.when_sold_out[movie] = env.now\n",
    "            theater.available[movie] = 0\n",
    "        yield env.timeout(random.expovariate(1))"
   ]
  },
  {
   "cell_type": "code",
   "execution_count": 26,
   "id": "6a5f9e7c",
   "metadata": {},
   "outputs": [],
   "source": [
    "def customer_arrivals(env, theater):\n",
    "    \"\"\"Create new *moviegoers* until the sim time reaches 120.\"\"\"\n",
    "    while True:\n",
    "        yield env.timeout(random.expovariate(1 / 0.5))\n",
    "\n",
    "        movie = random.choice(theater.movies)\n",
    "        num_tickets = random.randint(1, 8)\n",
    "        if theater.available[movie]:\n",
    "            env.process(moviegoer(env, movie, num_tickets, theater))"
   ]
  },
  {
   "cell_type": "code",
   "execution_count": 27,
   "id": "482470d9",
   "metadata": {},
   "outputs": [],
   "source": [
    "Theater = collections.namedtuple('Theater', 'counter, movies, available, '\n",
    "                                            'sold_out, when_sold_out, '\n",
    "                                            'num_renegers')\n"
   ]
  },
  {
   "cell_type": "code",
   "execution_count": 28,
   "id": "20a52cfa",
   "metadata": {},
   "outputs": [
    {
     "name": "stdout",
     "output_type": "stream",
     "text": [
      "Moviegoer\n"
     ]
    }
   ],
   "source": [
    "# Setup and start the simulation\n",
    "print('Moviegoer')\n",
    "random.seed(RANDOM_SEED)\n",
    "env = simpy.Environment()"
   ]
  },
  {
   "cell_type": "code",
   "execution_count": 29,
   "id": "5df83ae8",
   "metadata": {},
   "outputs": [],
   "source": [
    "# Create movie theater\n",
    "counter = simpy.Resource(env, capacity=1)\n",
    "movies = ['Toy Story', 'Mary Poppins', 'The Wizard of Oz', 'E.T.','Home Alone', 'Finding Nemo','Cars','Moana','Minions']\n",
    "available = {movie: TICKETS for movie in movies}\n",
    "sold_out = {movie: env.event() for movie in movies}\n",
    "when_sold_out = {movie: None for movie in movies}\n",
    "num_renegers = {movie: 0 for movie in movies}\n",
    "theater = Theater(counter, movies, available, sold_out, when_sold_out,\n",
    "                  num_renegers)\n"
   ]
  },
  {
   "cell_type": "code",
   "execution_count": 30,
   "id": "1e5f6593",
   "metadata": {},
   "outputs": [],
   "source": [
    "# Start process and run\n",
    "env.process(customer_arrivals(env, theater))\n",
    "env.run(until=SIM_TIME)"
   ]
  },
  {
   "cell_type": "code",
   "execution_count": 31,
   "id": "8cf0aa9c",
   "metadata": {},
   "outputs": [
    {
     "name": "stdout",
     "output_type": "stream",
     "text": [
      "Movie \"Toy Story\" sold out 91.5 minutes after ticket counter opening.\n",
      "  Number of people leaving queue when film sold out: 6\n",
      "Movie \"Mary Poppins\" sold out 109.4 minutes after ticket counter opening.\n",
      "  Number of people leaving queue when film sold out: 2\n",
      "Movie \"The Wizard of Oz\" sold out 102.1 minutes after ticket counter opening.\n",
      "  Number of people leaving queue when film sold out: 4\n",
      "Movie \"E.T.\" sold out 92.5 minutes after ticket counter opening.\n",
      "  Number of people leaving queue when film sold out: 19\n",
      "Movie \"Home Alone\" sold out 105.9 minutes after ticket counter opening.\n",
      "  Number of people leaving queue when film sold out: 9\n",
      "Movie \"Finding Nemo\" sold out 115.7 minutes after ticket counter opening.\n",
      "  Number of people leaving queue when film sold out: 3\n",
      "Movie \"Cars\" sold out 107.0 minutes after ticket counter opening.\n",
      "  Number of people leaving queue when film sold out: 5\n",
      "Movie \"Moana\" sold out 105.3 minutes after ticket counter opening.\n",
      "  Number of people leaving queue when film sold out: 12\n",
      "Movie \"Minions\" sold out 69.1 minutes after ticket counter opening.\n",
      "  Number of people leaving queue when film sold out: 11\n"
     ]
    }
   ],
   "source": [
    "# Analysis/results\n",
    "for movie in movies:\n",
    "    if theater.sold_out[movie]:\n",
    "        print('Movie \"%s\" sold out %.1f minutes after ticket counter '\n",
    "              'opening.' % (movie, theater.when_sold_out[movie]))\n",
    "        print('  Number of people leaving queue when film sold out: %s' %\n",
    "              theater.num_renegers[movie])\n"
   ]
  },
  {
   "cell_type": "code",
   "execution_count": null,
   "id": "b20deaa6",
   "metadata": {},
   "outputs": [],
   "source": []
  }
 ],
 "metadata": {
  "kernelspec": {
   "display_name": "Python 3 (ipykernel)",
   "language": "python",
   "name": "python3"
  },
  "language_info": {
   "codemirror_mode": {
    "name": "ipython",
    "version": 3
   },
   "file_extension": ".py",
   "mimetype": "text/x-python",
   "name": "python",
   "nbconvert_exporter": "python",
   "pygments_lexer": "ipython3",
   "version": "3.9.7"
  }
 },
 "nbformat": 4,
 "nbformat_minor": 5
}
